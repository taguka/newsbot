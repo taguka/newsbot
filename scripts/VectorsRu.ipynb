{
 "cells": [
  {
   "cell_type": "code",
   "execution_count": null,
   "metadata": {
    "colab": {
     "base_uri": "https://localhost:8080/",
     "height": 143
    },
    "colab_type": "code",
    "id": "ZOm6LYMYNwS9",
    "outputId": "c4d51ea9-2573-4569-9cb6-fa5513fb769a"
   },
   "outputs": [],
   "source": [
    "!pip install pyonmttok fasttext bs4 pandas"
   ]
  },
  {
   "cell_type": "code",
   "execution_count": null,
   "metadata": {
    "colab": {
     "base_uri": "https://localhost:8080/",
     "height": 559
    },
    "colab_type": "code",
    "id": "nnxmLQm5Zkim",
    "outputId": "7df8ac4c-667e-4405-b266-c6e7c5848879"
   },
   "outputs": [],
   "source": [
    "!rm -f ru_tg_train.tar.gz\n",
    "!wget https://www.dropbox.com/s/1ecl9orr2tagcgi/ru_tg_train.tar.gz\n",
    "!rm -f ru_tg_train.json\n",
    "!tar -xzvf ru_tg_train.tar.gz\n",
    "!rm ru_tg_train.tar.gz"
   ]
  },
  {
   "cell_type": "code",
   "execution_count": null,
   "metadata": {
    "colab": {
     "base_uri": "https://localhost:8080/",
     "height": 325
    },
    "colab_type": "code",
    "id": "zv59l_Y-O06N",
    "outputId": "7cd0e5d8-a85d-478c-cca9-fc7d773732f5"
   },
   "outputs": [],
   "source": [
    "# https://github.com/yutkin/Lenta.Ru-News-Dataset\n",
    "\n",
    "!rm -f lenta-ru-news.csv.gz\n",
    "!wget https://github.com/yutkin/Lenta.Ru-News-Dataset/releases/download/v1.0/lenta-ru-news.csv.gz\n",
    "!rm -f lenta-ru-news.csv\n",
    "!gzip -d lenta-ru-news.csv.gz"
   ]
  },
  {
   "cell_type": "code",
   "execution_count": null,
   "metadata": {
    "colab": {
     "base_uri": "https://localhost:8080/",
     "height": 305
    },
    "colab_type": "code",
    "id": "04nix0RFRBTY",
    "outputId": "69fca4a6-1d61-4737-d589-bc9c75efb8fc"
   },
   "outputs": [],
   "source": [
    "# https://github.com/RossiyaSegodnya/ria_news_dataset\n",
    "\n",
    "!rm -f ria.json.gz\n",
    "!wget https://github.com/RossiyaSegodnya/ria_news_dataset/raw/master/ria.json.gz\n",
    "!rm -f ria.json\n",
    "!gzip -d ria.json.gz"
   ]
  },
  {
   "cell_type": "code",
   "execution_count": null,
   "metadata": {
    "colab": {
     "base_uri": "https://localhost:8080/",
     "height": 163
    },
    "colab_type": "code",
    "id": "SvRdeUjpMfxd",
    "outputId": "67688bc6-2804-448e-c6b3-725100e96f80"
   },
   "outputs": [],
   "source": [
    "import json\n",
    "\n",
    "with open('ru_tg_train.json', \"r\") as r:\n",
    "    tg_train_data = json.load(r)\n",
    "\n",
    "tg_titles = [record[\"title\"] for record in tg_train_data]\n",
    "tg_texts = [record[\"text\"] for record in tg_train_data]\n",
    "print(tg_titles[0])\n",
    "print(tg_texts[0])\n",
    "print(len(tg_titles))"
   ]
  },
  {
   "cell_type": "code",
   "execution_count": null,
   "metadata": {
    "colab": {
     "base_uri": "https://localhost:8080/",
     "height": 91
    },
    "colab_type": "code",
    "id": "rrJ2FEL3PB2y",
    "outputId": "157bdecf-a199-4f1c-cdae-2d1ec4f3d5de"
   },
   "outputs": [],
   "source": [
    "import pandas as pd\n",
    "\n",
    "dataset = pd.read_csv(\"lenta-ru-news.csv\", sep=',', quotechar='\\\"', escapechar='\\\\', encoding='utf-8', header=0)\n",
    "lenta_titles = dataset[\"title\"].tolist()\n",
    "lenta_texts = dataset[\"text\"].tolist()\n",
    "print(lenta_titles[0])\n",
    "print(lenta_texts[0])\n",
    "print(len(lenta_titles))"
   ]
  },
  {
   "cell_type": "code",
   "execution_count": null,
   "metadata": {
    "colab": {
     "base_uri": "https://localhost:8080/",
     "height": 289
    },
    "colab_type": "code",
    "id": "xRZWjQddR8kG",
    "outputId": "ffe9d751-6c22-4d1d-e2bb-32ee26d2ad4d"
   },
   "outputs": [],
   "source": [
    "from bs4 import BeautifulSoup\n",
    "\n",
    "ria_titles = []\n",
    "ria_texts = []\n",
    "with open(\"ria.json\", \"r\", encoding=\"utf-8\") as r:\n",
    "    for line in r:\n",
    "        data = json.loads(line.strip())\n",
    "        title = data[\"title\"]\n",
    "        text = data[\"text\"]\n",
    "        clean_text = str(BeautifulSoup(text, 'html.parser').text)\n",
    "        if not clean_text or not title:\n",
    "            continue\n",
    "        ria_titles.append(title)\n",
    "        ria_texts.append(clean_text)\n",
    "print(ria_titles[0])\n",
    "print(ria_texts[0])\n",
    "print(len(ria_titles))"
   ]
  },
  {
   "cell_type": "code",
   "execution_count": null,
   "metadata": {
    "colab": {
     "base_uri": "https://localhost:8080/",
     "height": 55
    },
    "colab_type": "code",
    "id": "3I-FZ9KmMgpg",
    "outputId": "58975064-58d9-4d5f-cd29-420efa1c22f2"
   },
   "outputs": [],
   "source": [
    "import pyonmttok\n",
    "import random\n",
    "tokenizer = pyonmttok.Tokenizer(\"conservative\", joiner_annotate=False)\n",
    "\n",
    "def preprocess(text):\n",
    "    text = str(text).strip().replace(\"\\n\", \" \").replace(\"\\xa0\", \" \").lower()\n",
    "    tokens, _ = tokenizer.tokenize(text)\n",
    "    text = \" \".join(tokens)\n",
    "    return text\n",
    "\n",
    "# Each dataset should be equally represented\n",
    "lenta_sample_rate = float(len(tg_titles)) / len(lenta_titles)\n",
    "sampled_lenta_titles = [title for title in lenta_titles if random.random() < lenta_sample_rate]\n",
    "sampled_lenta_texts = [text for text in lenta_texts if random.random() < lenta_sample_rate]\n",
    "\n",
    "ria_sample_rate = float(len(tg_titles)) / len(ria_titles)\n",
    "sampled_ria_titles = [title for title in ria_titles if random.random() < ria_sample_rate]\n",
    "sampled_ria_texts = [text for text in ria_texts if random.random() < ria_sample_rate]\n",
    "\n",
    "all_samples = tg_titles + tg_texts + sampled_lenta_titles + sampled_lenta_texts + sampled_ria_titles + sampled_ria_texts\n",
    "\n",
    "random.shuffle(all_samples)\n",
    "processed_all_samples = [preprocess(text) for text in all_samples]\n",
    "processed_all_samples = [text for text in processed_all_samples if text.strip()]\n",
    "print(processed_all_samples[0])"
   ]
  },
  {
   "cell_type": "code",
   "execution_count": null,
   "metadata": {
    "colab": {},
    "colab_type": "code",
    "id": "3sk1w9VAZ8gg"
   },
   "outputs": [],
   "source": [
    "# Clear RAM\n",
    "del lenta_titles\n",
    "del lenta_texts\n",
    "del ria_titles\n",
    "del ria_texts\n",
    "del tg_titles\n",
    "del tg_texts\n",
    "del all_samples\n",
    "del sampled_ria_titles\n",
    "del sampled_ria_texts\n",
    "del sampled_lenta_titles\n",
    "del sampled_lenta_texts"
   ]
  },
  {
   "cell_type": "code",
   "execution_count": null,
   "metadata": {
    "colab": {},
    "colab_type": "code",
    "id": "TcwmGHzWkOTL"
   },
   "outputs": [],
   "source": [
    "# Clear Disk\n",
    "!rm lenta-ru-news.csv\n",
    "!rm ria.json\n",
    "!rm ru_tg_train.json"
   ]
  },
  {
   "cell_type": "code",
   "execution_count": null,
   "metadata": {
    "colab": {},
    "colab_type": "code",
    "id": "ozQpIyyUUaCv"
   },
   "outputs": [],
   "source": [
    "with open(\"train.txt\", \"w\", encoding=\"utf-8\") as w:\n",
    "    for sample in processed_all_samples:\n",
    "        w.write(sample.strip() + \"\\n\")"
   ]
  },
  {
   "cell_type": "code",
   "execution_count": null,
   "metadata": {
    "colab": {
     "base_uri": "https://localhost:8080/",
     "height": 35
    },
    "colab_type": "code",
    "id": "A7G4b8gPaQ8Q",
    "outputId": "aa8aeaf4-16dc-4e46-ece5-b4e096a205d3"
   },
   "outputs": [],
   "source": [
    "!tar -czvf ru_unsupervised_train.tar.gz train.txt"
   ]
  },
  {
   "cell_type": "code",
   "execution_count": null,
   "metadata": {
    "colab": {},
    "colab_type": "code",
    "id": "keRb_lfDNiKE"
   },
   "outputs": [],
   "source": [
    "# I prefer to run this on the machine with many threads. In Colab this cell will be running for eternity.\n",
    "\n",
    "from fasttext import train_unsupervised\n",
    "\n",
    "model = train_unsupervised('train.txt', model='skipgram', dim=50, epoch=10, minCount=100, bucket=200000, verbose=2)"
   ]
  }
 ],
 "metadata": {
  "colab": {
   "collapsed_sections": [],
   "name": "VectorsRu.ipynb",
   "provenance": []
  },
  "kernelspec": {
   "display_name": "Python 3",
   "language": "python",
   "name": "python3"
  },
  "language_info": {
   "codemirror_mode": {
    "name": "ipython",
    "version": 3
   },
   "file_extension": ".py",
   "mimetype": "text/x-python",
   "name": "python",
   "nbconvert_exporter": "python",
   "pygments_lexer": "ipython3",
   "version": "3.6.4"
  }
 },
 "nbformat": 4,
 "nbformat_minor": 1
}
