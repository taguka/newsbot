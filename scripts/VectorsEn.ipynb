{
 "cells": [
  {
   "cell_type": "code",
   "execution_count": null,
   "metadata": {
    "colab": {
     "base_uri": "https://localhost:8080/",
     "height": 325
    },
    "colab_type": "code",
    "id": "ZOm6LYMYNwS9",
    "outputId": "659ae4f7-4917-4d76-bfb5-60605db3c6e1"
   },
   "outputs": [],
   "source": [
    "!pip install pyonmttok fasttext"
   ]
  },
  {
   "cell_type": "code",
   "execution_count": null,
   "metadata": {
    "colab": {
     "base_uri": "https://localhost:8080/",
     "height": 559
    },
    "colab_type": "code",
    "id": "nnxmLQm5Zkim",
    "outputId": "ae13770c-4a81-48dd-99c0-717654901d17"
   },
   "outputs": [],
   "source": [
    "!rm -f en_tg_train.tar.gz\n",
    "!wget https://www.dropbox.com/s/umd8tyx4wz1wquq/en_tg_train.tar.gz\n",
    "!rm -f en_tg_train.json\n",
    "!tar -xzvf en_tg_train.tar.gz\n",
    "!rm en_tg_train.tar.gz"
   ]
  },
  {
   "cell_type": "code",
   "execution_count": null,
   "metadata": {
    "colab": {
     "base_uri": "https://localhost:8080/",
     "height": 1000
    },
    "colab_type": "code",
    "id": "zv59l_Y-O06N",
    "outputId": "0c16c2b8-77f7-420a-b5fa-109449c45efa"
   },
   "outputs": [],
   "source": [
    "# https://www.kaggle.com/pariza/bbc-news-summary/data\n",
    "\n",
    "!rm -f bbc-news-summary.zip\n",
    "!wget https://www.dropbox.com/s/gq76b24q3x5n1ku/bbc-news-summary.zip\n",
    "!unzip bbc-news-summary.zip"
   ]
  },
  {
   "cell_type": "code",
   "execution_count": null,
   "metadata": {
    "colab": {
     "base_uri": "https://localhost:8080/",
     "height": 505
    },
    "colab_type": "code",
    "id": "04nix0RFRBTY",
    "outputId": "d9746e0d-d735-4ebd-a78a-ca3a0633b1de"
   },
   "outputs": [],
   "source": [
    "# https://www.kaggle.com/rmisra/news-category-dataset\n",
    "\n",
    "!rm -f news-category-dataset.zip\n",
    "!wget https://www.dropbox.com/s/ua18htwqrkwnfpg/news-category-dataset.zip\n",
    "!unzip news-category-dataset.zip"
   ]
  },
  {
   "cell_type": "code",
   "execution_count": null,
   "metadata": {
    "colab": {
     "base_uri": "https://localhost:8080/",
     "height": 541
    },
    "colab_type": "code",
    "id": "JHq7Rl4RzZED",
    "outputId": "a2819792-791b-428d-c9d9-4c2acdbef8d4"
   },
   "outputs": [],
   "source": [
    "# https://www.kaggle.com/snapcrack/all-the-news\n",
    "\n",
    "!rm -f all-the-news.zip\n",
    "!wget https://www.dropbox.com/s/bacg3cxckeqw6a9/all-the-news.zip\n",
    "!unzip all-the-news.zip"
   ]
  },
  {
   "cell_type": "code",
   "execution_count": null,
   "metadata": {
    "colab": {
     "base_uri": "https://localhost:8080/",
     "height": 271
    },
    "colab_type": "code",
    "id": "SvRdeUjpMfxd",
    "outputId": "9e16e882-d39b-4f32-d158-29b812871509"
   },
   "outputs": [],
   "source": [
    "import json\n",
    "\n",
    "with open('en_tg_train.json', \"r\") as r:\n",
    "    tg_train_data = json.load(r)\n",
    "\n",
    "tg_titles = [record[\"title\"] for record in tg_train_data]\n",
    "tg_texts = [record[\"text\"] for record in tg_train_data]\n",
    "print(tg_titles[0])\n",
    "print(tg_texts[0])\n",
    "print(len(tg_titles))"
   ]
  },
  {
   "cell_type": "code",
   "execution_count": null,
   "metadata": {
    "colab": {
     "base_uri": "https://localhost:8080/",
     "height": 73
    },
    "colab_type": "code",
    "id": "zkWTRafqSw5f",
    "outputId": "2427dbbc-ce27-41de-f688-91e7f46870ec"
   },
   "outputs": [],
   "source": [
    "import os\n",
    "\n",
    "def get_bbc_texts(input_directory):\n",
    "    assert os.path.exists(input_directory)\n",
    "    records = []\n",
    "    for rubric_dir in os.listdir(input_directory):\n",
    "        rubric_dir = os.path.join(input_directory, rubric_dir)\n",
    "        if not os.path.isdir(rubric_dir):\n",
    "            continue\n",
    "        for file_name in os.listdir(rubric_dir):\n",
    "            file_name = os.path.join(rubric_dir, file_name)\n",
    "            with open(file_name, \"r\") as r:\n",
    "                try:\n",
    "                    content = r.read().replace(\"\\n\", \" \")\n",
    "                except Exception as e:\n",
    "                    continue\n",
    "                records.append(content)\n",
    "    return records\n",
    "\n",
    "bbc_texts = get_bbc_texts(\"BBC News Summary/News Articles\")\n",
    "print(bbc_texts[0])\n",
    "print(len(bbc_texts))"
   ]
  },
  {
   "cell_type": "code",
   "execution_count": null,
   "metadata": {
    "colab": {
     "base_uri": "https://localhost:8080/",
     "height": 73
    },
    "colab_type": "code",
    "id": "0G1dR8KNTNhw",
    "outputId": "f33e5b24-133f-4821-b5bb-cdd810b83fbd"
   },
   "outputs": [],
   "source": [
    "import json\n",
    "\n",
    "nc_texts = []\n",
    "with open(\"News_Category_Dataset_v2.json\", \"r\") as r:\n",
    "    for line in r:\n",
    "        data = json.loads(line)\n",
    "        title = data[\"headline\"]\n",
    "        text = data[\"short_description\"]\n",
    "        nc_texts.append(title + \" \" + text)\n",
    "print(nc_texts[0])\n",
    "print(len(nc_texts))"
   ]
  },
  {
   "cell_type": "code",
   "execution_count": null,
   "metadata": {
    "colab": {
     "base_uri": "https://localhost:8080/",
     "height": 91
    },
    "colab_type": "code",
    "id": "lcTdpFIn0C2-",
    "outputId": "07c12d3e-f94b-4052-930f-fb27d3c33186"
   },
   "outputs": [],
   "source": [
    "import csv\n",
    "import sys\n",
    "csv.field_size_limit(sys.maxsize)\n",
    "\n",
    "all_the_news_files = (\"articles1.csv\", \"articles2.csv\", \"articles3.csv\")\n",
    "atn_titles = []\n",
    "atn_texts = []\n",
    "for file_name in all_the_news_files:\n",
    "    with open(file_name, \"r\") as r:\n",
    "        next(r)\n",
    "        reader = csv.reader(r, delimiter=',')\n",
    "        for row in reader:\n",
    "            _, _, title, _, _, _, _, _, _, text = row\n",
    "            atn_titles.append(title)\n",
    "            atn_texts.append(text)\n",
    "print(atn_titles[0])\n",
    "print(atn_texts[0])\n",
    "print(len(atn_titles))"
   ]
  },
  {
   "cell_type": "code",
   "execution_count": null,
   "metadata": {
    "colab": {
     "base_uri": "https://localhost:8080/",
     "height": 53
    },
    "colab_type": "code",
    "id": "3I-FZ9KmMgpg",
    "outputId": "02f3dc84-6f21-4107-afa5-6e8834104cdd"
   },
   "outputs": [],
   "source": [
    "import pyonmttok\n",
    "import random\n",
    "tokenizer = pyonmttok.Tokenizer(\"conservative\")\n",
    "\n",
    "def preprocess(text):\n",
    "    text = str(text).strip().replace(\"\\n\", \" \").replace(\"\\xa0\", \" \").lower()\n",
    "    tokens, _ = tokenizer.tokenize(text)\n",
    "    text = \" \".join(tokens)\n",
    "    return text\n",
    "\n",
    "all_samples = tg_titles + tg_texts + bbc_texts + nc_texts + atn_titles + atn_texts\n",
    "random.shuffle(all_samples)\n",
    "processed_all_samples = [preprocess(text) for text in all_samples]\n",
    "processed_all_samples = [text for text in processed_all_samples if text.strip()]\n",
    "print(processed_all_samples[0])\n",
    "print(len(processed_all_samples))"
   ]
  },
  {
   "cell_type": "code",
   "execution_count": null,
   "metadata": {
    "colab": {},
    "colab_type": "code",
    "id": "3sk1w9VAZ8gg"
   },
   "outputs": [],
   "source": [
    "# Clear RAM\n",
    "del tg_titles\n",
    "del tg_texts\n",
    "del bbc_texts\n",
    "del nc_texts\n",
    "del all_samples\n",
    "del atn_titles\n",
    "del atn_texts"
   ]
  },
  {
   "cell_type": "code",
   "execution_count": null,
   "metadata": {
    "colab": {},
    "colab_type": "code",
    "id": "TcwmGHzWkOTL"
   },
   "outputs": [],
   "source": [
    "# Clear Disk\n",
    "!rm -rf \"BBC News Summary\"\n",
    "!rm -rf \"bbc news summary\"\n",
    "!rm News_Category_Dataset_v2.json\n",
    "!rm en_tg_train.json\n",
    "!rm articles1.csv\n",
    "!rm articles2.csv\n",
    "!rm articles3.csv"
   ]
  },
  {
   "cell_type": "code",
   "execution_count": null,
   "metadata": {
    "colab": {},
    "colab_type": "code",
    "id": "ozQpIyyUUaCv"
   },
   "outputs": [],
   "source": [
    "with open(\"train.txt\", \"w\", encoding=\"utf-8\") as w:\n",
    "    for sample in processed_all_samples:\n",
    "        w.write(sample.strip() + \"\\n\")"
   ]
  },
  {
   "cell_type": "code",
   "execution_count": null,
   "metadata": {
    "colab": {
     "base_uri": "https://localhost:8080/",
     "height": 35
    },
    "colab_type": "code",
    "id": "A7G4b8gPaQ8Q",
    "outputId": "6c58886f-bdb3-4b27-9f8c-7ff2617aee51"
   },
   "outputs": [],
   "source": [
    "!tar -czvf en_unsupervised_train.tar.gz train.txt"
   ]
  },
  {
   "cell_type": "code",
   "execution_count": null,
   "metadata": {
    "colab": {},
    "colab_type": "code",
    "id": "keRb_lfDNiKE"
   },
   "outputs": [],
   "source": [
    "from fasttext import train_unsupervised\n",
    "\n",
    "model = train_unsupervised('train.txt', model='skipgram', dim=50, epoch=10, minCount=50, bucket=200000, verbose=2)"
   ]
  }
 ],
 "metadata": {
  "colab": {
   "collapsed_sections": [],
   "name": "VectorsEn.ipynb",
   "provenance": []
  },
  "kernelspec": {
   "display_name": "Python 3",
   "language": "python",
   "name": "python3"
  },
  "language_info": {
   "codemirror_mode": {
    "name": "ipython",
    "version": 3
   },
   "file_extension": ".py",
   "mimetype": "text/x-python",
   "name": "python",
   "nbconvert_exporter": "python",
   "pygments_lexer": "ipython3",
   "version": "3.6.4"
  }
 },
 "nbformat": 4,
 "nbformat_minor": 1
}
